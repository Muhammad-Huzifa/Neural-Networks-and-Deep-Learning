{
 "cells": [
  {
   "cell_type": "code",
   "execution_count": 29,
   "id": "8b5a37e3-c39e-4656-985b-11cfdc20a12b",
   "metadata": {},
   "outputs": [],
   "source": [
    "import numpy as np\n",
    "import pandas as pd\n",
    "import matplotlib.pyplot as plt"
   ]
  },
  {
   "cell_type": "code",
   "execution_count": 110,
   "id": "3c0e158e-af5c-4042-b7a8-87790f3f0c0a",
   "metadata": {},
   "outputs": [
    {
     "name": "stdout",
     "output_type": "stream",
     "text": [
      "Z (Linear Output):\n",
      "[[4.4]\n",
      " [5.4]\n",
      " [1.6]\n",
      " [3.6]]\n",
      "\n",
      "A (Activated Output):\n",
      "[[0.98787157]\n",
      " [0.99550373]\n",
      " [0.83201839]\n",
      " [0.97340301]]\n"
     ]
    }
   ],
   "source": [
    "import numpy as np\n",
    "\n",
    "# Input vector (3 inputs)\n",
    "x1, x2, x3 = 3, 4, 2\n",
    "X = np.array([[x1], [x2], [x3]])\n",
    "\n",
    "# Weight matrix (4 neurons, 3 inputs each)\n",
    "W = np.array([\n",
    "    [0.2, 0.3, 0.3],\n",
    "    [0.5, 0.2, 0.5],\n",
    "    [0.1, 0.2, 0.1],\n",
    "    [0.5, 0.4, 0.2]\n",
    "])\n",
    "\n",
    "# Bias vector (4 biases)\n",
    "B = np.array([[2], [2.1], [0.3], [0.1]])\n",
    "\n",
    "# Compute Z = W * X + B\n",
    "Z = np.dot(W, X) + B\n",
    "\n",
    "# Apply activation function (e.g., sigmoid)\n",
    "def sigmoid(x):\n",
    "    return 1 / (1 + np.exp(-x))\n",
    "\n",
    "A = sigmoid(Z)\n",
    "\n",
    "print(\"Z (Linear Output):\")\n",
    "print(Z)\n",
    "print(\"\\nA (Activated Output):\")\n",
    "print(A)\n"
   ]
  },
  {
   "cell_type": "markdown",
   "id": "c02154d5-7083-43d0-a774-be22ce2ec836",
   "metadata": {},
   "source": [
    "## Forward and Back propagation"
   ]
  },
  {
   "cell_type": "code",
   "execution_count": null,
   "id": "370e2a6d-ce4a-4061-a0ab-1f20fcaed4d8",
   "metadata": {},
   "outputs": [],
   "source": []
  },
  {
   "cell_type": "code",
   "execution_count": 23,
   "id": "c4471dee-eab4-439d-99a3-e79cc56085cd",
   "metadata": {},
   "outputs": [
    {
     "name": "stdout",
     "output_type": "stream",
     "text": [
      "Initial Loss: 0.021627313223007625\n",
      "Updated W1: 0.40018419878605427, Updated b1: 0.1003683975721085\n",
      "Updated W2: 0.3028856075983625, Updated b2: 0.2050233182849671\n",
      "New Loss: 0.021291519138776156\n"
     ]
    }
   ],
   "source": [
    "def sigmoid(z):\n",
    "    return 1 / (1+np.exp(-z))\n",
    "def derivatives_sigmoid(z):\n",
    "    return sigmoid(z) * (1-sigmoid(z))\n",
    "\n",
    "x=0.5\n",
    "y = 0.8\n",
    "w1 = 0.4\n",
    "b1 = 0.1\n",
    "w2 = 0.3\n",
    "b2 = 0.2\n",
    "learning_rate = 0.1\n",
    "z1 = w1 * x +b1\n",
    "a1 = sigmoid(z1)\n",
    "z2 = w2 * a1 +b2 \n",
    "a = sigmoid(z2)\n",
    "loss = 0.5 * (y - a) ** 2\n",
    "print(f\"Initial Loss: {loss}\")\n",
    "## Derivativess for output layer\n",
    "dL_da =a - y\n",
    "da_dz2 = derivatives_sigmoid(z2)\n",
    "#The chain rule for the loss gradient with respect to 𝑧2:\n",
    "dL_dz2 = dL_da * da_dz2\n",
    "#Gradients for w2 and b2\n",
    "dz2_dw2 = a1\n",
    "dz2_db2 = 1\n",
    "#Loss function for W2 and b2\n",
    "dL_dw2 = dL_dz2 * dz2_dw2\n",
    "dL_db2 = dL_dz2 * dz2_db2\n",
    "## Back propagation in hidden layer z2 with respect to a1\n",
    "dz2_da1 = w2\n",
    "## Loss w.r.t a1:\n",
    "dL_da1 = dL_dz2 * dz2_da1\n",
    "# Derivaives of a1 w.r.t z1 :\n",
    "da1_dz1 = derivatives_sigmoid(z1)\n",
    "# Loss graident w.r.t z1 \n",
    "dL_dz1 = dL_da1 * da1_dz1\n",
    "# Gradient for W1 and b1 \n",
    "# Derivvatives of z1 w.r.t w1\n",
    "dz1_dw1 = x\n",
    "# Derivvatives of z1 w.r.t b1\n",
    "dz1_db1= 1\n",
    "#NOw\n",
    "dL_dw1 = dL_dz1 * dz1_dw1\n",
    "dL_db1 = dL_dz1 * dz1_db1\n",
    "# Updating weights and biases\n",
    "\n",
    "W2 -= learning_rate * dL_dW2\n",
    "b2 -= learning_rate * dL_db2\n",
    "W1 -= learning_rate * dL_dW1\n",
    "b1 -= learning_rate * dL_db1\n",
    "\n",
    "# Print updated weights and biases\n",
    "print(f\"Updated W1: {W1}, Updated b1: {b1}\")\n",
    "print(f\"Updated W2: {W2}, Updated b2: {b2}\")\n",
    "\n",
    "# Forward propagation with updated weights and biases\n",
    "z1 = W1 * x + b1\n",
    "a1 = sigmoid(z1)\n",
    "z2 = W2 * a1 + b2\n",
    "a = sigmoid(z2)\n",
    "\n",
    "# New Loss\n",
    "loss = 0.5 * (y - a) **\n",
    "\n",
    "print(f\"New Loss: {loss}\")\n"
   ]
  },
  {
   "cell_type": "markdown",
   "id": "457890e6-3a83-4438-9c4c-0935d308a5e0",
   "metadata": {},
   "source": [
    "## Example with dataset"
   ]
  },
  {
   "cell_type": "code",
   "execution_count": 26,
   "id": "2a3a068f-e924-4674-97c3-c3ec6cc3221c",
   "metadata": {},
   "outputs": [],
   "source": [
    "import numpy as np\n",
    "\n",
    "# Create a random dataset with 100 samples and 3 features\n",
    "np.random.seed(42)\n",
    "X = np.random.rand(100, 3)  # 100 samples, 3 features\n",
    "y = (np.sum(X, axis=1) > 1.5).astype(int).reshape(-1, 1)  # Binary output based on a simple rule\n"
   ]
  },
  {
   "cell_type": "code",
   "execution_count": 28,
   "id": "260c56be-296c-4d15-a1c7-bfdce9b482a8",
   "metadata": {},
   "outputs": [],
   "source": [
    "def initialize_parameters():\n",
    "    W1 = np.random.randn(3, 5) * 0.01  # 3 inputs, 5 neurons in the first hidden layer\n",
    "    b1 = np.zeros((1, 5))\n",
    "    W2 = np.random.randn(5, 3) * 0.01  # 5 neurons in the first layer, 3 in the second\n",
    "    b2 = np.zeros((1, 3))\n",
    "    W3 = np.random.randn(3, 1) * 0.01  # 3 neurons in the second layer, 1 output neuron\n",
    "    b3 = np.zeros((1, 1))\n",
    "    \n",
    "    return W1, b1, W2, b2, W3, b3\n"
   ]
  },
  {
   "cell_type": "code",
   "execution_count": 30,
   "id": "65827a49-d5c1-478e-bfa1-4807a5edf05c",
   "metadata": {},
   "outputs": [],
   "source": [
    "def sigmoid(z):\n",
    "    return 1 / (1 + np.exp(-z))\n",
    "\n",
    "def forward_propagation(X, W1, b1, W2, b2, W3, b3):\n",
    "    # Layer 1\n",
    "    Z1 = np.dot(X, W1) + b1\n",
    "    A1 = np.tanh(Z1)\n",
    "    \n",
    "    # Layer 2\n",
    "    Z2 = np.dot(A1, W2) + b2\n",
    "    A2 = np.tanh(Z2)\n",
    "    \n",
    "    # Output layer\n",
    "    Z3 = np.dot(A2, W3) + b3\n",
    "    A3 = sigmoid(Z3)\n",
    "    \n",
    "    return A1, A2, A3, Z1, Z2, Z3\n"
   ]
  },
  {
   "cell_type": "code",
   "execution_count": 32,
   "id": "e7c7cdab-34a8-4b05-9afa-e5b7a82ddb3b",
   "metadata": {},
   "outputs": [],
   "source": [
    "def backward_propagation(X, y, A1, A2, A3, Z1, Z2, Z3, W2, W3):\n",
    "    m = X.shape[0]\n",
    "    \n",
    "    # Output layer gradients\n",
    "    dZ3 = A3 - y\n",
    "    dW3 = np.dot(A2.T, dZ3) / m\n",
    "    db3 = np.sum(dZ3, axis=0, keepdims=True) / m\n",
    "    \n",
    "    # Layer 2 gradients\n",
    "    dA2 = np.dot(dZ3, W3.T)\n",
    "    dZ2 = dA2 * (1 - np.tanh(Z2) ** 2)\n",
    "    dW2 = np.dot(A1.T, dZ2) / m\n",
    "    db2 = np.sum(dZ2, axis=0, keepdims=True) / m\n",
    "    \n",
    "    # Layer 1 gradients\n",
    "    dA1 = np.dot(dZ2, W2.T)\n",
    "    dZ1 = dA1 * (1 - np.tanh(Z1) ** 2)\n",
    "    dW1 = np.dot(X.T, dZ1) / m\n",
    "    db1 = np.sum(dZ1, axis=0, keepdims=True) / m\n",
    "    \n",
    "    return dW1, db1, dW2, db2, dW3, db3\n"
   ]
  },
  {
   "cell_type": "code",
   "execution_count": 34,
   "id": "2ce57e4b-c8ce-4d3a-8760-a4a8a13fd605",
   "metadata": {},
   "outputs": [],
   "source": [
    "def update_parameters(W1, b1, W2, b2, W3, b3, dW1, db1, dW2, db2, dW3, db3, learning_rate):\n",
    "    W1 -= learning_rate * dW1\n",
    "    b1 -= learning_rate * db1\n",
    "    W2 -= learning_rate * dW2\n",
    "    b2 -= learning_rate * db2\n",
    "    W3 -= learning_rate * dW3\n",
    "    b3 -= learning_rate * db3\n",
    "    \n",
    "    return W1, b1, W2, b2, W3, b3\n"
   ]
  },
  {
   "cell_type": "code",
   "execution_count": 36,
   "id": "e0ffdd95-4f9d-4772-9cdc-2f3af5689c48",
   "metadata": {},
   "outputs": [
    {
     "name": "stdout",
     "output_type": "stream",
     "text": [
      "Epoch 0, Loss: 0.6931471991529193\n",
      "Epoch 100, Loss: 0.6918857148160269\n",
      "Epoch 200, Loss: 0.691121380539085\n",
      "Epoch 300, Loss: 0.6906581176687557\n",
      "Epoch 400, Loss: 0.6903772234549146\n",
      "Epoch 500, Loss: 0.6902068393528137\n",
      "Epoch 600, Loss: 0.690103450517812\n",
      "Epoch 700, Loss: 0.6900406937498762\n",
      "Epoch 800, Loss: 0.6900025892500125\n",
      "Epoch 900, Loss: 0.6899794465757547\n"
     ]
    }
   ],
   "source": [
    "def train_neural_network(X, y, epochs=1000, learning_rate=0.01):\n",
    "    W1, b1, W2, b2, W3, b3 = initialize_parameters()\n",
    "    \n",
    "    for i in range(epochs):\n",
    "        # Forward propagation\n",
    "        A1, A2, A3, Z1, Z2, Z3 = forward_propagation(X, W1, b1, W2, b2, W3, b3)\n",
    "        \n",
    "        # Compute loss (binary cross-entropy)\n",
    "        loss = -np.mean(y * np.log(A3) + (1 - y) * np.log(1 - A3))\n",
    "        \n",
    "        # Backward propagation\n",
    "        dW1, db1, dW2, db2, dW3, db3 = backward_propagation(X, y, A1, A2, A3, Z1, Z2, Z3, W2, W3)\n",
    "        \n",
    "        # Update parameters\n",
    "        W1, b1, W2, b2, W3, b3 = update_parameters(W1, b1, W2, b2, W3, b3, dW1, db1, dW2, db2, dW3, db3, learning_rate)\n",
    "        \n",
    "        if i % 100 == 0:\n",
    "            print(f'Epoch {i}, Loss: {loss}')\n",
    "    \n",
    "    return W1, b1, W2, b2, W3, b3\n",
    "\n",
    "# Train the model\n",
    "W1, b1, W2, b2, W3, b3 = train_neural_network(X, y)\n"
   ]
  },
  {
   "cell_type": "markdown",
   "id": "009084c3-cb9c-4231-840e-aea7934ab805",
   "metadata": {},
   "source": [
    "## Binary Classification Problem\n"
   ]
  },
  {
   "cell_type": "code",
   "execution_count": 334,
   "id": "6ec878ee-a789-4c34-b087-22fcdaa1c44d",
   "metadata": {},
   "outputs": [
    {
     "name": "stdout",
     "output_type": "stream",
     "text": [
      "Epoch 1/10\n",
      "\u001b[1m32/32\u001b[0m \u001b[32m━━━━━━━━━━━━━━━━━━━━\u001b[0m\u001b[37m\u001b[0m \u001b[1m5s\u001b[0m 9ms/step - accuracy: 0.5213 - loss: 0.6944\n",
      "Epoch 2/10\n",
      "\u001b[1m32/32\u001b[0m \u001b[32m━━━━━━━━━━━━━━━━━━━━\u001b[0m\u001b[37m\u001b[0m \u001b[1m1s\u001b[0m 5ms/step - accuracy: 0.5105 - loss: 0.6948\n",
      "Epoch 3/10\n",
      "\u001b[1m32/32\u001b[0m \u001b[32m━━━━━━━━━━━━━━━━━━━━\u001b[0m\u001b[37m\u001b[0m \u001b[1m0s\u001b[0m 5ms/step - accuracy: 0.5149 - loss: 0.6928\n",
      "Epoch 4/10\n",
      "\u001b[1m32/32\u001b[0m \u001b[32m━━━━━━━━━━━━━━━━━━━━\u001b[0m\u001b[37m\u001b[0m \u001b[1m0s\u001b[0m 5ms/step - accuracy: 0.5008 - loss: 0.6932\n",
      "Epoch 5/10\n",
      "\u001b[1m32/32\u001b[0m \u001b[32m━━━━━━━━━━━━━━━━━━━━\u001b[0m\u001b[37m\u001b[0m \u001b[1m0s\u001b[0m 5ms/step - accuracy: 0.5153 - loss: 0.6925\n",
      "Epoch 6/10\n",
      "\u001b[1m32/32\u001b[0m \u001b[32m━━━━━━━━━━━━━━━━━━━━\u001b[0m\u001b[37m\u001b[0m \u001b[1m0s\u001b[0m 7ms/step - accuracy: 0.5155 - loss: 0.6924\n",
      "Epoch 7/10\n",
      "\u001b[1m32/32\u001b[0m \u001b[32m━━━━━━━━━━━━━━━━━━━━\u001b[0m\u001b[37m\u001b[0m \u001b[1m0s\u001b[0m 6ms/step - accuracy: 0.4933 - loss: 0.6929\n",
      "Epoch 8/10\n",
      "\u001b[1m32/32\u001b[0m \u001b[32m━━━━━━━━━━━━━━━━━━━━\u001b[0m\u001b[37m\u001b[0m \u001b[1m0s\u001b[0m 5ms/step - accuracy: 0.5189 - loss: 0.6926\n",
      "Epoch 9/10\n",
      "\u001b[1m32/32\u001b[0m \u001b[32m━━━━━━━━━━━━━━━━━━━━\u001b[0m\u001b[37m\u001b[0m \u001b[1m0s\u001b[0m 5ms/step - accuracy: 0.5184 - loss: 0.6928\n",
      "Epoch 10/10\n",
      "\u001b[1m32/32\u001b[0m \u001b[32m━━━━━━━━━━━━━━━━━━━━\u001b[0m\u001b[37m\u001b[0m \u001b[1m0s\u001b[0m 6ms/step - accuracy: 0.5227 - loss: 0.6915\n"
     ]
    },
    {
     "data": {
      "text/plain": [
       "<keras.src.callbacks.history.History at 0x22bdd4ff790>"
      ]
     },
     "execution_count": 334,
     "metadata": {},
     "output_type": "execute_result"
    }
   ],
   "source": [
    "import tensorflow as tf\n",
    "from tensorflow.keras import Sequential\n",
    "from tensorflow.keras.layers import Dense\n",
    "import numpy as np\n",
    "\n",
    "# Generate synthetic binary classification data\n",
    "X = np.random.rand(1000, 3)  # 1000 samples, 3 features\n",
    "y = np.random.randint(0, 2, size=(1000, 1))  # Binary labels (0 or 1)\n",
    "\n",
    "# Define the model\n",
    "model = Sequential([\n",
    "    Dense(10, input_dim=3, activation='relu'),\n",
    "    Dense(11, input_dim=3, activation='relu'),\n",
    "    Dense(21, input_dim=3, activation='relu'),\n",
    "\n",
    "    Dense(1, activation='sigmoid')  # Output layer for binary classification\n",
    "])\n",
    "\n",
    "# Compile the model\n",
    "model.compile(optimizer='adam', loss='binary_crossentropy', metrics=['accuracy'])\n",
    "\n",
    "# Train the model\n",
    "model.fit(X, y, epochs=10, batch_size=32)\n"
   ]
  },
  {
   "cell_type": "code",
   "execution_count": 350,
   "id": "ad9d4af3-fde9-4e28-bb1f-b4fa29398e71",
   "metadata": {},
   "outputs": [
    {
     "name": "stdout",
     "output_type": "stream",
     "text": [
      "\u001b[1m1/1\u001b[0m \u001b[32m━━━━━━━━━━━━━━━━━━━━\u001b[0m\u001b[37m\u001b[0m \u001b[1m0s\u001b[0m 64ms/step\n"
     ]
    },
    {
     "data": {
      "text/plain": [
       "array([[0.49125126]], dtype=float32)"
      ]
     },
     "execution_count": 350,
     "metadata": {},
     "output_type": "execute_result"
    }
   ],
   "source": [
    "X = np.random.rand(1000, 3)\n",
    "X\n",
    "model.predict(np.array([[0.22840419, 0.80164709, 0.99798432]]))"
   ]
  },
  {
   "cell_type": "code",
   "execution_count": 352,
   "id": "0aa414c0-d13a-4c1f-9659-17f842bad742",
   "metadata": {},
   "outputs": [
    {
     "data": {
      "text/plain": [
       "array([0])"
      ]
     },
     "execution_count": 352,
     "metadata": {},
     "output_type": "execute_result"
    }
   ],
   "source": [
    "y[2]"
   ]
  },
  {
   "cell_type": "markdown",
   "id": "360004ed-fee6-43b8-8cf7-1be8267c9da3",
   "metadata": {},
   "source": [
    "# MNIST Data Set"
   ]
  },
  {
   "cell_type": "code",
   "execution_count": 23,
   "id": "e0549bc0-79f3-4bd9-94e1-337cc3d8f59d",
   "metadata": {},
   "outputs": [],
   "source": [
    "##Done in Google Colab"
   ]
  },
  {
   "cell_type": "markdown",
   "id": "99b67289-78e7-46b6-9b8b-db77d3de7598",
   "metadata": {},
   "source": [
    "# Breast Cancer Dataset"
   ]
  },
  {
   "cell_type": "code",
   "execution_count": 25,
   "id": "723e0376-8c2e-43a8-b940-c3adf546aa3b",
   "metadata": {},
   "outputs": [
    {
     "name": "stderr",
     "output_type": "stream",
     "text": [
      "C:\\Users\\PMLS\\anaconda3\\Lib\\site-packages\\keras\\src\\layers\\core\\dense.py:87: UserWarning: Do not pass an `input_shape`/`input_dim` argument to a layer. When using Sequential models, prefer using an `Input(shape)` object as the first layer in the model instead.\n",
      "  super().__init__(activity_regularizer=activity_regularizer, **kwargs)\n"
     ]
    },
    {
     "name": "stdout",
     "output_type": "stream",
     "text": [
      "Epoch 1/10\n",
      "\u001b[1m15/15\u001b[0m \u001b[32m━━━━━━━━━━━━━━━━━━━━\u001b[0m\u001b[37m\u001b[0m \u001b[1m6s\u001b[0m 61ms/step - accuracy: 0.8299 - loss: 0.5461 - val_accuracy: 0.9561 - val_loss: 0.4233\n",
      "Epoch 2/10\n",
      "\u001b[1m15/15\u001b[0m \u001b[32m━━━━━━━━━━━━━━━━━━━━\u001b[0m\u001b[37m\u001b[0m \u001b[1m1s\u001b[0m 12ms/step - accuracy: 0.9033 - loss: 0.4229 - val_accuracy: 0.9561 - val_loss: 0.3120\n",
      "Epoch 3/10\n",
      "\u001b[1m15/15\u001b[0m \u001b[32m━━━━━━━━━━━━━━━━━━━━\u001b[0m\u001b[37m\u001b[0m \u001b[1m0s\u001b[0m 14ms/step - accuracy: 0.9303 - loss: 0.3180 - val_accuracy: 0.9474 - val_loss: 0.2263\n",
      "Epoch 4/10\n",
      "\u001b[1m15/15\u001b[0m \u001b[32m━━━━━━━━━━━━━━━━━━━━\u001b[0m\u001b[37m\u001b[0m \u001b[1m0s\u001b[0m 13ms/step - accuracy: 0.9443 - loss: 0.2284 - val_accuracy: 0.9561 - val_loss: 0.1693\n",
      "Epoch 5/10\n",
      "\u001b[1m15/15\u001b[0m \u001b[32m━━━━━━━━━━━━━━━━━━━━\u001b[0m\u001b[37m\u001b[0m \u001b[1m0s\u001b[0m 14ms/step - accuracy: 0.9273 - loss: 0.1947 - val_accuracy: 0.9561 - val_loss: 0.1357\n",
      "Epoch 6/10\n",
      "\u001b[1m15/15\u001b[0m \u001b[32m━━━━━━━━━━━━━━━━━━━━\u001b[0m\u001b[37m\u001b[0m \u001b[1m0s\u001b[0m 12ms/step - accuracy: 0.9410 - loss: 0.1558 - val_accuracy: 0.9649 - val_loss: 0.1159\n",
      "Epoch 7/10\n",
      "\u001b[1m15/15\u001b[0m \u001b[32m━━━━━━━━━━━━━━━━━━━━\u001b[0m\u001b[37m\u001b[0m \u001b[1m0s\u001b[0m 17ms/step - accuracy: 0.9502 - loss: 0.1357 - val_accuracy: 0.9649 - val_loss: 0.1019\n",
      "Epoch 8/10\n",
      "\u001b[1m15/15\u001b[0m \u001b[32m━━━━━━━━━━━━━━━━━━━━\u001b[0m\u001b[37m\u001b[0m \u001b[1m1s\u001b[0m 13ms/step - accuracy: 0.9434 - loss: 0.1285 - val_accuracy: 0.9649 - val_loss: 0.0926\n",
      "Epoch 9/10\n",
      "\u001b[1m15/15\u001b[0m \u001b[32m━━━━━━━━━━━━━━━━━━━━\u001b[0m\u001b[37m\u001b[0m \u001b[1m0s\u001b[0m 14ms/step - accuracy: 0.9605 - loss: 0.1070 - val_accuracy: 0.9649 - val_loss: 0.0843\n",
      "Epoch 10/10\n",
      "\u001b[1m15/15\u001b[0m \u001b[32m━━━━━━━━━━━━━━━━━━━━\u001b[0m\u001b[37m\u001b[0m \u001b[1m0s\u001b[0m 12ms/step - accuracy: 0.9618 - loss: 0.0924 - val_accuracy: 0.9649 - val_loss: 0.0782\n",
      "\u001b[1m4/4\u001b[0m \u001b[32m━━━━━━━━━━━━━━━━━━━━\u001b[0m\u001b[37m\u001b[0m \u001b[1m0s\u001b[0m 8ms/step - accuracy: 0.9558 - loss: 0.0837  \n",
      "Test Accuracy: 0.9649\n"
     ]
    }
   ],
   "source": [
    "import tensorflow as tf\n",
    "from tensorflow.keras import Sequential\n",
    "from tensorflow.keras.layers import Dense\n",
    "from sklearn.datasets import load_breast_cancer\n",
    "from sklearn.model_selection import train_test_split\n",
    "from sklearn.preprocessing import StandardScaler\n",
    "\n",
    "# Load the dataset\n",
    "data = load_breast_cancer()\n",
    "X = data.data  # Features\n",
    "y = data.target  # Binary target (0 or 1)\n",
    "\n",
    "# Split the data into training and testing sets\n",
    "X_train, X_test, y_train, y_test = train_test_split(X, y, test_size=0.2, random_state=42)\n",
    "\n",
    "# Standardize the features\n",
    "scaler = StandardScaler()\n",
    "X_train = scaler.fit_transform(X_train)\n",
    "X_test = scaler.transform(X_test)\n",
    "\n",
    "# Define the model\n",
    "model = Sequential([\n",
    "    Dense(10, input_dim=X_train.shape[1], activation='relu'),\n",
    "    Dense(11, activation='relu'),\n",
    "    Dense(21, activation='relu'),\n",
    "    Dense(1, activation='sigmoid')  # Output layer for binary classification\n",
    "])\n",
    "\n",
    "# Compile the model\n",
    "model.compile(optimizer='adam', loss='binary_crossentropy', metrics=['accuracy'])\n",
    "\n",
    "# Train the model\n",
    "history = model.fit(X_train, y_train, epochs=10, batch_size=32, validation_data=(X_test, y_test))\n",
    "\n",
    "# Evaluate the model\n",
    "loss, accuracy = model.evaluate(X_test, y_test)\n",
    "print(f\"Test Accuracy: {accuracy:.4f}\")"
   ]
  },
  {
   "cell_type": "code",
   "execution_count": 35,
   "id": "998aba05-89ec-4894-a139-efad85c13374",
   "metadata": {},
   "outputs": [
    {
     "data": {
      "image/png": "[encoded data removed]",
      "text/plain": [
       "<Figure size 640x480 with 1 Axes>"
      ]
     },
     "metadata": {},
     "output_type": "display_data"
    }
   ],
   "source": [
    "plt.plot(history.history['loss'])\n",
    "plt.title('Training Loss')\n",
    "plt.xlabel('Epoch')\n",
    "plt.ylabel('Loss')\n",
    "plt.show()"
   ]
  },
  {
   "cell_type": "code",
   "execution_count": 39,
   "id": "da157289-3fa0-4afe-82be-765bf2373c1a",
   "metadata": {},
   "outputs": [
    {
     "data": {
      "image/png": "[encoded data removed]",
      "text/plain": [
       "<Figure size 640x480 with 1 Axes>"
      ]
     },
     "metadata": {},
     "output_type": "display_data"
    }
   ],
   "source": [
    "plt.plot(history.history[\"accuracy\"])\n",
    "plt.title(\"Training Accuracy\")\n",
    "plt.xlabel(\"Epoch\")\n",
    "plt.ylabel(\"Accuracy\")\n",
    "plt.show()"
   ]
  },
  {
   "cell_type": "code",
   "execution_count": 41,
   "id": "b1831606-10eb-4ca6-b8bc-75b9cf3771a7",
   "metadata": {},
   "outputs": [
    {
     "data": {
      "image/png": "[encoded data removed]",
      "text/plain": [
       "<Figure size 640x480 with 1 Axes>"
      ]
     },
     "metadata": {},
     "output_type": "display_data"
    }
   ],
   "source": [
    "plt.plot(history.history[\"val_accuracy\"])\n",
    "plt.title(\"Validation Accuracy\")\n",
    "plt.xlabel(\"Epoch\")\n",
    "plt.ylabel(\"Accuracy\")\n",
    "plt.show()"
   ]
  },
  {
   "cell_type": "code",
   "execution_count": 433,
   "id": "7381300d-ab66-4c8b-87b5-2b02e518388f",
   "metadata": {},
   "outputs": [
    {
     "name": "stdout",
     "output_type": "stream",
     "text": [
      "\u001b[1m1/1\u001b[0m \u001b[32m━━━━━━━━━━━━━━━━━━━━\u001b[0m\u001b[37m\u001b[0m \u001b[1m0s\u001b[0m 204ms/step\n"
     ]
    },
    {
     "data": {
      "text/plain": [
       "array([[3.7852249e-13, 3.0254236e-13, 1.0372649e-10, 2.9917038e-10,\n",
       "        2.0092645e-16, 9.5765420e-13, 1.1550312e-14, 1.0000000e+00,\n",
       "        1.4552157e-12, 2.1493316e-09]], dtype=float32)"
      ]
     },
     "execution_count": 433,
     "metadata": {},
     "output_type": "execute_result"
    }
   ],
   "source": [
    "model.predict([X_test[:1]])"
   ]
  },
  {
   "cell_type": "code",
   "execution_count": 435,
   "id": "6c1a811f-37de-4d03-baac-b1278c5b76ce",
   "metadata": {},
   "outputs": [
    {
     "data": {
      "text/plain": [
       "array([[0., 0., 0., 0., 0., 0., 0., 1., 0., 0.]])"
      ]
     },
     "execution_count": 435,
     "metadata": {},
     "output_type": "execute_result"
    }
   ],
   "source": [
    "y_test[:1]"
   ]
  },
  {
   "cell_type": "markdown",
   "id": "bdb6679b-d371-4e31-a2c2-f36de8887d98",
   "metadata": {},
   "source": [
    "## Multiclass Classification Using CNN and ANN "
   ]
  },
  {
   "cell_type": "code",
   "execution_count": 51,
   "id": "1794ba72-8ad5-4fa8-aa62-13e300164829",
   "metadata": {},
   "outputs": [
    {
     "name": "stdout",
     "output_type": "stream",
     "text": [
      "Epoch 1/10\n",
      "\u001b[1m25/25\u001b[0m \u001b[32m━━━━━━━━━━━━━━━━━━━━\u001b[0m\u001b[37m\u001b[0m \u001b[1m3s\u001b[0m 66ms/step - accuracy: 0.5344 - loss: 1.0124 - val_accuracy: 0.8485 - val_loss: 0.3339\n",
      "Epoch 2/10\n",
      "\u001b[1m25/25\u001b[0m \u001b[32m━━━━━━━━━━━━━━━━━━━━\u001b[0m\u001b[37m\u001b[0m \u001b[1m1s\u001b[0m 52ms/step - accuracy: 0.9119 - loss: 0.2437 - val_accuracy: 0.9444 - val_loss: 0.1457\n",
      "Epoch 3/10\n",
      "\u001b[1m25/25\u001b[0m \u001b[32m━━━━━━━━━━━━━━━━━━━━\u001b[0m\u001b[37m\u001b[0m \u001b[1m1s\u001b[0m 54ms/step - accuracy: 0.9453 - loss: 0.1495 - val_accuracy: 0.9697 - val_loss: 0.0949\n",
      "Epoch 4/10\n",
      "\u001b[1m25/25\u001b[0m \u001b[32m━━━━━━━━━━━━━━━━━━━━\u001b[0m\u001b[37m\u001b[0m \u001b[1m1s\u001b[0m 54ms/step - accuracy: 0.9829 - loss: 0.0623 - val_accuracy: 0.9646 - val_loss: 0.0844\n",
      "Epoch 5/10\n",
      "\u001b[1m25/25\u001b[0m \u001b[32m━━━━━━━━━━━━━━━━━━━━\u001b[0m\u001b[37m\u001b[0m \u001b[1m1s\u001b[0m 51ms/step - accuracy: 0.9891 - loss: 0.0444 - val_accuracy: 0.9949 - val_loss: 0.0428\n",
      "Epoch 6/10\n",
      "\u001b[1m25/25\u001b[0m \u001b[32m━━━━━━━━━━━━━━━━━━━━\u001b[0m\u001b[37m\u001b[0m \u001b[1m1s\u001b[0m 52ms/step - accuracy: 0.9979 - loss: 0.0272 - val_accuracy: 0.9949 - val_loss: 0.0405\n",
      "Epoch 7/10\n",
      "\u001b[1m25/25\u001b[0m \u001b[32m━━━━━━━━━━━━━━━━━━━━\u001b[0m\u001b[37m\u001b[0m \u001b[1m1s\u001b[0m 53ms/step - accuracy: 0.9969 - loss: 0.0149 - val_accuracy: 0.9899 - val_loss: 0.0297\n",
      "Epoch 8/10\n",
      "\u001b[1m25/25\u001b[0m \u001b[32m━━━━━━━━━━━━━━━━━━━━\u001b[0m\u001b[37m\u001b[0m \u001b[1m1s\u001b[0m 51ms/step - accuracy: 0.9977 - loss: 0.0125 - val_accuracy: 0.9899 - val_loss: 0.0330\n",
      "Epoch 9/10\n",
      "\u001b[1m25/25\u001b[0m \u001b[32m━━━━━━━━━━━━━━━━━━━━\u001b[0m\u001b[37m\u001b[0m \u001b[1m1s\u001b[0m 52ms/step - accuracy: 1.0000 - loss: 0.0121 - val_accuracy: 0.9899 - val_loss: 0.0353\n",
      "Epoch 10/10\n",
      "\u001b[1m25/25\u001b[0m \u001b[32m━━━━━━━━━━━━━━━━━━━━\u001b[0m\u001b[37m\u001b[0m \u001b[1m1s\u001b[0m 51ms/step - accuracy: 1.0000 - loss: 0.0040 - val_accuracy: 0.9899 - val_loss: 0.0312\n",
      "\u001b[1m7/7\u001b[0m \u001b[32m━━━━━━━━━━━━━━━━━━━━\u001b[0m\u001b[37m\u001b[0m \u001b[1m0s\u001b[0m 20ms/step - accuracy: 0.9944 - loss: 0.0200\n",
      "Test Accuracy: 98.99%\n"
     ]
    }
   ],
   "source": [
    "import numpy as np\n",
    "import os\n",
    "import cv2 as cv\n",
    "from tensorflow.keras.models import Sequential\n",
    "from tensorflow.keras.layers import Dense, Flatten, Conv2D, MaxPooling2D\n",
    "from sklearn.model_selection import train_test_split\n",
    "from tensorflow.keras.utils import to_categorical\n",
    "\n",
    "# Define paths\n",
    "dataset_path = r'D:\\Classification DataSet\\ImageClassification'  # Replace with the path to your dataset\n",
    "\n",
    "# Load and preprocess the dataset\n",
    "def load_and_preprocess_image(image_path):\n",
    "    image = cv.imread(image_path)\n",
    "    image = cv.resize(image, (64, 64))  # Resize image to 64x64\n",
    "    image = image / 255.0  # Normalize pixel values\n",
    "    return image\n",
    "\n",
    "def load_dataset(dataset_path):\n",
    "    images = []\n",
    "    labels = []\n",
    "    classes = ['Cars', 'Cricket ball', 'Ice cream cone']\n",
    "    for label, class_name in enumerate(classes):\n",
    "        class_path = os.path.join(dataset_path, class_name)\n",
    "        for image_name in os.listdir(class_path):\n",
    "            image_path = os.path.join(class_path, image_name)\n",
    "            if os.path.isfile(image_path):  # Check if the path is a file\n",
    "                image = load_and_preprocess_image(image_path)\n",
    "                images.append(image)\n",
    "                labels.append(label)\n",
    "    return np.array(images), np.array(labels)\n",
    "\n",
    "images, labels = load_dataset(dataset_path)\n",
    "\n",
    "# Split into training and testing sets\n",
    "X_train, X_test, y_train, y_test = train_test_split(images, labels, test_size=0.2, random_state=42)\n",
    "\n",
    "# Convert labels to categorical (one-hot encoding)\n",
    "y_train = to_categorical(y_train, 3)\n",
    "y_test = to_categorical(y_test, 3)\n",
    "\n",
    "# Define the model\n",
    "model = Sequential([\n",
    "    Conv2D(32, (3, 3), activation='relu', input_shape=(64, 64, 3)),\n",
    "    MaxPooling2D((2, 2)),\n",
    "    Conv2D(64, (3, 3), activation='relu'),\n",
    "    MaxPooling2D((2, 2)),\n",
    "    Flatten(),\n",
    "    Dense(64, activation='relu'),\n",
    "    Dense(3, activation='softmax')  # Output layer for 3 classes\n",
    "])\n",
    "\n",
    "# Compile the model\n",
    "model.compile(optimizer='adam', loss='categorical_crossentropy', metrics=['accuracy'])\n",
    "\n",
    "# Train the model\n",
    "history = model.fit(X_train, y_train, epochs=10, batch_size=32, validation_data=(X_test, y_test))\n",
    "\n",
    "# Evaluate the model\n",
    "loss, accuracy = model.evaluate(X_test, y_test)\n",
    "print(f\"Test Accuracy: {accuracy * 100:.2f}%\")\n",
    "\n",
    "# To make predictions on new data\n",
    "def predict_class(image_path):\n",
    "    image = load_and_preprocess_image(image_path)\n",
    "    image = np.expand_dims(image, axis=0)  # Add batch dimension\n",
    "    prediction = model.predict(image)\n",
    "    predicted_class = np.argmax(prediction, axis=1)\n",
    "    return predicted_class\n",
    "\n"
   ]
  },
  {
   "cell_type": "code",
   "execution_count": 53,
   "id": "2cf44f7d-06bf-41c8-904c-f4d6099caec7",
   "metadata": {},
   "outputs": [
    {
     "name": "stdout",
     "output_type": "stream",
     "text": [
      "\u001b[1m1/1\u001b[0m \u001b[32m━━━━━━━━━━━━━━━━━━━━\u001b[0m\u001b[37m\u001b[0m \u001b[1m0s\u001b[0m 125ms/step\n",
      "Predicted Class: [1]\n"
     ]
    }
   ],
   "source": [
    "image_path = r\"C:\\Users\\PMLS\\Desktop\\images.jfif\"\n",
    "print(\"Predicted Class:\",predict_class(image_path))"
   ]
  },
  {
   "cell_type": "code",
   "execution_count": 57,
   "id": "0b099ad9-26e6-4ae4-853f-bdf136f710b2",
   "metadata": {},
   "outputs": [],
   "source": [
    "# Assuming X_test is a numpy array containing image data\n",
    "first_two_images = X_test[0:10]"
   ]
  },
  {
   "cell_type": "code",
   "execution_count": 59,
   "id": "c02ccfbf-1445-42ab-87fa-8e3f2c3c5882",
   "metadata": {},
   "outputs": [
    {
     "name": "stdout",
     "output_type": "stream",
     "text": [
      "\u001b[1m1/1\u001b[0m \u001b[32m━━━━━━━━━━━━━━━━━━━━\u001b[0m\u001b[37m\u001b[0m \u001b[1m0s\u001b[0m 104ms/step\n"
     ]
    },
    {
     "data": {
      "text/plain": [
       "array([0, 0, 1, 2, 0, 1, 2, 0, 0, 1], dtype=int64)"
      ]
     },
     "execution_count": 59,
     "metadata": {},
     "output_type": "execute_result"
    }
   ],
   "source": [
    "np.argmax(model.predict(first_two_images), -1)"
   ]
  },
  {
   "cell_type": "code",
   "execution_count": 67,
   "id": "b204c95d-914a-4d63-bf02-a30b4a7c17e9",
   "metadata": {},
   "outputs": [
    {
     "data": {
      "text/plain": [
       "array([0, 0, 1, 2, 0, 1, 2, 0, 0, 1], dtype=int64)"
      ]
     },
     "execution_count": 67,
     "metadata": {},
     "output_type": "execute_result"
    }
   ],
   "source": [
    "y_test[0:10].argmax(axis = 1)"
   ]
  },
  {
   "cell_type": "code",
   "execution_count": 65,
   "id": "04190332-a865-42a9-b256-8a9c4a5d5cfd",
   "metadata": {},
   "outputs": [
    {
     "name": "stdout",
     "output_type": "stream",
     "text": [
      "\u001b[1m1/1\u001b[0m \u001b[32m━━━━━━━━━━━━━━━━━━━━\u001b[0m\u001b[37m\u001b[0m \u001b[1m0s\u001b[0m 33ms/step\n"
     ]
    },
    {
     "data": {
      "text/plain": [
       "array([0, 0, 1, 2, 0, 1, 2, 0, 0, 1], dtype=int64)"
      ]
     },
     "execution_count": 65,
     "metadata": {},
     "output_type": "execute_result"
    }
   ],
   "source": [
    "model.predict(first_two_images).argmax(axis = 1)"
   ]
  },
  {
   "cell_type": "code",
   "execution_count": 43,
   "id": "813294c0-d0a2-4fc2-9415-1f22f049884d",
   "metadata": {},
   "outputs": [],
   "source": [
    "from sklearn.metrics import accuracy_score\n"
   ]
  },
  {
   "cell_type": "code",
   "execution_count": 89,
   "id": "a2d97976-145e-4564-a585-e2326179300d",
   "metadata": {},
   "outputs": [
    {
     "data": {
      "text/plain": [
       "Text(0, 0.5, 'Loss')"
      ]
     },
     "execution_count": 89,
     "metadata": {},
     "output_type": "execute_result"
    },
    {
     "data": {
      "image/png": "[encoded data removed]",
      "text/plain": [
       "<Figure size 640x480 with 1 Axes>"
      ]
     },
     "metadata": {},
     "output_type": "display_data"
    }
   ],
   "source": [
    "plt.plot(history.history['loss'] , c = 'r')\n",
    "plt.xlabel(\"Epochs\")\n",
    "plt.ylabel(\"Loss\")\n"
   ]
  },
  {
   "cell_type": "code",
   "execution_count": 91,
   "id": "e2b6bffb-917c-46b0-9a2f-4c4fb591c71e",
   "metadata": {},
   "outputs": [
    {
     "data": {
      "text/plain": [
       "Text(0, 0.5, 'Accuracy')"
      ]
     },
     "execution_count": 91,
     "metadata": {},
     "output_type": "execute_result"
    },
    {
     "data": {
      "image/png": "[encoded data removed]",
      "text/plain": [
       "<Figure size 640x480 with 1 Axes>"
      ]
     },
     "metadata": {},
     "output_type": "display_data"
    }
   ],
   "source": [
    "plt.plot(history.history['accuracy'] , c = 'b' , label = 'Accuracy')\n",
    "plt.plot(history.history['val_accuracy'] , c = 'r' , label = 'Validation_Accuracy')\n",
    "plt.legend(fontsize = 'large')\n",
    "plt.xlabel(\"Epochs\")\n",
    "plt.ylabel(\"Accuracy\")"
   ]
  },
  {
   "cell_type": "code",
   "execution_count": 93,
   "id": "c60e8824-b413-48d1-a8e9-ad12d3b96746",
   "metadata": {},
   "outputs": [
    {
     "data": {
      "text/plain": [
       "(2, 2, 1)"
      ]
     },
     "execution_count": 93,
     "metadata": {},
     "output_type": "execute_result"
    }
   ],
   "source": [
    "x=np.array([[[1],[2]],[[3],[4]]])\n",
    "\n",
    "x.shape"
   ]
  },
  {
   "cell_type": "code",
   "execution_count": 112,
   "id": "3330d86d-0702-4402-b380-8e07483ed55c",
   "metadata": {},
   "outputs": [],
   "source": [
    "x = np.random.rand(3, 2)\n",
    "\n",
    "y = np.sum(x, axis=0, keepdims=True)"
   ]
  },
  {
   "cell_type": "code",
   "execution_count": 114,
   "id": "a29394ef-1924-4d16-ac20-9e5ddf9d400b",
   "metadata": {},
   "outputs": [
    {
     "data": {
      "text/plain": [
       "(1, 2)"
      ]
     },
     "execution_count": 114,
     "metadata": {},
     "output_type": "execute_result"
    }
   ],
   "source": [
    "y.shape"
   ]
  },
  {
   "cell_type": "code",
   "execution_count": 116,
   "id": "acb3ecd0-49b4-47d9-9815-30faea50f914",
   "metadata": {},
   "outputs": [
    {
     "data": {
      "text/plain": [
       "array([[0.51923464, 0.17910839],\n",
       "       [0.83673221, 0.57496836],\n",
       "       [0.52737398, 0.56615548]])"
      ]
     },
     "execution_count": 116,
     "metadata": {},
     "output_type": "execute_result"
    }
   ],
   "source": [
    "x"
   ]
  },
  {
   "cell_type": "code",
   "execution_count": null,
   "id": "65f74107-3daf-4a23-8da5-505f682f9774",
   "metadata": {},
   "outputs": [],
   "source": []
  }
 ],
 "metadata": {
  "kernelspec": {
   "display_name": "Python 3 (ipykernel)",
   "language": "python",
   "name": "python3"
  },
  "language_info": {
   "codemirror_mode": {
    "name": "ipython",
    "version": 3
   },
   "file_extension": ".py",
   "mimetype": "text/x-python",
   "name": "python",
   "nbconvert_exporter": "python",
   "pygments_lexer": "ipython3",
   "version": "3.11.5"
  },
  "widgets": {
   "application/vnd.jupyter.widget-state+json": {
    "state": {},
    "version_major": 2,
    "version_minor": 0
   }
  }
 },
 "nbformat": 4,
 "nbformat_minor": 5
}
